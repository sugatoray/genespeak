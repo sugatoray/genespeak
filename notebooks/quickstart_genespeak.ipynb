{
  "nbformat": 4,
  "nbformat_minor": 0,
  "metadata": {
    "colab": {
      "name": "quickstart_genespeak.ipynb",
      "provenance": [],
      "collapsed_sections": [],
      "authorship_tag": "ABX9TyN1EoeN3O/no2mNL+32NNDl",
      "include_colab_link": true
    },
    "kernelspec": {
      "name": "python3",
      "display_name": "Python 3"
    },
    "language_info": {
      "name": "python"
    }
  },
  "cells": [
    {
      "cell_type": "markdown",
      "metadata": {
        "id": "view-in-github",
        "colab_type": "text"
      },
      "source": [
        "<a href=\"https://colab.research.google.com/github/sugatoray/genespeak/blob/master/notebooks/quickstart_genespeak.ipynb\" target=\"_parent\"><img src=\"https://colab.research.google.com/assets/colab-badge.svg\" alt=\"Open In Colab\"/></a>"
      ]
    },
    {
      "cell_type": "markdown",
      "source": [
        "## Install `genespeak`"
      ],
      "metadata": {
        "id": "YNsaOUzthiaP"
      }
    },
    {
      "cell_type": "code",
      "execution_count": 1,
      "metadata": {
        "id": "aNrOIBDAbzMh"
      },
      "outputs": [],
      "source": [
        "! pip install -Uqq genespeak"
      ]
    },
    {
      "cell_type": "markdown",
      "source": [
        "## Import `genespeak` and check version"
      ],
      "metadata": {
        "id": "bQaOCl1uhnsq"
      }
    },
    {
      "cell_type": "code",
      "source": [
        "import genespeak as gp\n",
        "print(f'{gp.__name__} version: {gp.__version__}')"
      ],
      "metadata": {
        "colab": {
          "base_uri": "https://localhost:8080/"
        },
        "id": "bLyHCLGpcVs2",
        "outputId": "dc245a95-20ee-491d-9ab9-2f093dc67733"
      },
      "execution_count": 2,
      "outputs": [
        {
          "output_type": "stream",
          "name": "stdout",
          "text": [
            "genespeak version: 0.0.5\n"
          ]
        }
      ]
    },
    {
      "cell_type": "markdown",
      "source": [
        "## Usage"
      ],
      "metadata": {
        "id": "g3mUn9LWj0az"
      }
    },
    {
      "cell_type": "markdown",
      "source": [
        "### A. Handle `ascii` text\n",
        "\n",
        "If your text does not contain non-english text or emojis, it is possible to use any strategy (`utf-8` or `ascii`) to properly convert the text into synthetic dna-single-strand. In case, the text is *ascii-only*, it is preferrable to use `ascii` strategy. In the following example, we have used `schema = \"ATCG\"`. The same *schema* and *strategy* pair is necessary for **text-to-dna** or **dna-to-text** conversion."
      ],
      "metadata": {
        "id": "dcvQ8IFPhIX9"
      }
    },
    {
      "cell_type": "code",
      "source": [
        "schema = \"ATCG\" # (1)\n",
        "strategy = \"ascii\" # (2)\n",
        "text = \"Hello World!\"\n",
        "\n",
        "dna = gp.text_to_dna(text, schema=schema)\n",
        "text_from_dna = gp.dna_to_text(dna, schema=schema)\n",
        "print(f'Text: {text}\\nEncoded DNA: {dna}\\nDecoded Text: {text_from_dna}\\nSuccess: {text == text_from_dna}')"
      ],
      "metadata": {
        "colab": {
          "base_uri": "https://localhost:8080/"
        },
        "id": "WS3nPmj-cBw4",
        "outputId": "81096432-69d3-42d2-dc83-6a83ff48ca1e"
      },
      "execution_count": 3,
      "outputs": [
        {
          "output_type": "stream",
          "name": "stdout",
          "text": [
            "Text: Hello World!\n",
            "Encoded DNA: TACATCTTTCGATCGATCGGACAATTTGTCGGTGACTCGATCTAACAT\n",
            "Decoded Text: Hello World!\n",
            "Success: True\n"
          ]
        }
      ]
    },
    {
      "cell_type": "markdown",
      "source": [
        "### B. Handle `utf-8` text\n",
        "\n",
        "If your text contains non-english text or emojis, it is necessary to use `strategy = \"utf-8\"` to properly convert the text into synthetic dna-single-strand. In the following example, we have used `schema = \"ACGT\"`. Same *schema* and *strategy* pair is necessary for **text-to-dna** or **dna-to-text** conversion."
      ],
      "metadata": {
        "id": "m5Z7Ayw-dKoi"
      }
    },
    {
      "cell_type": "code",
      "source": [
        "schema = \"ACGT\" # (1)\n",
        "strategy = \"utf-8\" # (2)\n",
        "text = \"Hello World 😀!\"\n",
        "\n",
        "dna = gp.text_to_dna(text, schema=schema, strategy=strategy)\n",
        "text_from_dna = gp.dna_to_text(dna, schema=schema, binary_string_length=24, strategy=strategy)\n",
        "print(f'Text: {text}\\nEncoded DNA: {dna}\\nDecoded Text: {text_from_dna}\\nSuccess: {text == text_from_dna}')"
      ],
      "metadata": {
        "colab": {
          "base_uri": "https://localhost:8080/"
        },
        "id": "81b2UwuWch0x",
        "outputId": "1f1de2a2-ec2d-4be1-fd68-0ec302bfb6cb"
      },
      "execution_count": 4,
      "outputs": [
        {
          "output_type": "stream",
          "name": "stdout",
          "text": [
            "Text: Hello World 😀!\n",
            "Encoded DNA: AAAAAAAACAGAAAAAAAAACGCCAAAAAAAACGTAAAAAAAAACGTAAAAAAAAACGTTAAAAAAAAAGAAAAAAAAAACCCTAAAAAAAACGTTAAAAAAAACTAGAAAAAAAACGTAAAAAAAAACGCAAAAAAAAAAGAAAAACTTCGAAAAAAAAAAAAAGAC\n",
            "Decoded Text: Hello World 😀!\n",
            "Success: True\n"
          ]
        }
      ]
    },
    {
      "cell_type": "markdown",
      "source": [
        "## Have fun playing with `genespeak` ! 🚀 🤗"
      ],
      "metadata": {
        "id": "nyPbHPUUjZIw"
      }
    },
    {
      "cell_type": "code",
      "source": [
        ""
      ],
      "metadata": {
        "id": "tVW4QCULgPRs"
      },
      "execution_count": null,
      "outputs": []
    }
  ]
}