{
  "metadata": {
    "colab": {
      "name": "quickstart_genespeak.ipynb",
      "provenance": [],
      "collapsed_sections": [],
      "authorship_tag": "ABX9TyOODxHdy2BV0Hh5+2LPzZZ4"
    },
    "kernelspec": {
      "name": "python3",
      "display_name": "Python 3",
      "language": "python"
    },
    "language_info": {
      "name": "python",
      "version": "3.7.12",
      "mimetype": "text/x-python",
      "codemirror_mode": {
        "name": "ipython",
        "version": 3
      },
      "pygments_lexer": "ipython3",
      "nbconvert_exporter": "python",
      "file_extension": ".py"
    }
  },
  "nbformat_minor": 0,
  "nbformat": 4,
  "cells": [
    {
      "cell_type": "markdown",
      "source": [
        "[![Colab Badge](https://colab.research.google.com/assets/colab-badge.svg)][#gh-colab-quickstart] \n",
        "[![Binder](https://mybinder.org/badge_logo.svg)][#gh-binder-quickstart] \n",
        "[![Open in SageMaker Studio Lab](https://studiolab.sagemaker.aws/studiolab.svg)][#gh-sagemaker-studiolab-quickstart] \n",
        "[![View in Deepnote](https://deepnote.com/static/buttons/view-in-deepnote-small.svg)][#gh-deepnote-quickstart] \n",
        "[![Kaggle](https://kaggle.com/static/images/open-in-kaggle.svg)][#gh-kaggle-quickstart] \n",
        "\n",
        "[#gh-colab-quickstart]: https://colab.research.google.com/github/sugatoray/genespeak/blob/master/notebooks/quickstart_genespeak.ipynb\n",
        "\n",
        "[#gh-binder-quickstart]: https://mybinder.org/v2/gh/sugatoray/genespeak/master?labpath=notebooks%2Fquickstart_genespeak.ipynb \n",
        "\n",
        "[#gh-sagemaker-studiolab-quickstart]: https://studiolab.sagemaker.aws/import/github/sugatoray/genespeak/blob/master/notebooks/quickstart_genespeak.ipynb \n",
        "\n",
        "[#gh-deepnote-quickstart]: https://deepnote.com/viewer/github/sugatoray/genespeak/blob/master/notebooks/quickstart_genespeak.ipynb \n",
        "\n",
        "[#gh-kaggle-quickstart]: https://kaggle.com/kernels/welcome?src=https://github.com/sugatoray/genespeak/blob/master/notebooks/quickstart_genespeak.ipynb"
      ],
      "metadata": {
        "id": "mMbSCJGsDSKu"
      }
    },
    {
      "cell_type": "markdown",
      "source": [
        "## Install `genespeak`"
      ],
      "metadata": {
        "id": "YNsaOUzthiaP"
      }
    },
    {
      "cell_type": "code",
      "source": [
        "! pip install -Uqq genespeak"
      ],
      "metadata": {
        "id": "aNrOIBDAbzMh"
      },
      "execution_count": 1,
      "outputs": []
    },
    {
      "cell_type": "markdown",
      "source": [
        "## Import `genespeak` and check version"
      ],
      "metadata": {
        "id": "bQaOCl1uhnsq"
      }
    },
    {
      "cell_type": "code",
      "source": [
        "import genespeak as gp\n",
        "print(f'{gp.__name__} version: {gp.__version__}')"
      ],
      "metadata": {
        "colab": {
          "base_uri": "https://localhost:8080/"
        },
        "id": "bLyHCLGpcVs2",
        "outputId": "9fadb71a-22c7-41cf-b66b-26c2aa699251"
      },
      "execution_count": 2,
      "outputs": [
        {
          "output_type": "stream",
          "name": "stdout",
          "text": [
            "genespeak version: 0.0.9\n"
          ]
        }
      ]
    },
    {
      "cell_type": "markdown",
      "source": [
        "## Usage"
      ],
      "metadata": {
        "id": "g3mUn9LWj0az"
      }
    },
    {
      "cell_type": "markdown",
      "source": [
        "### A. Handle `ascii` text\n",
        "\n",
        "If your text does not contain non-english text or emojis, it is possible to use any strategy (`utf-8` or `ascii`) to properly convert the text into synthetic dna-single-strand. In case, the text is *ascii-only*, it is preferrable to use `ascii` strategy. In the following example, we have used `schema = \"ATCG\"`. The same *schema* and *strategy* pair is necessary for **text-to-dna** or **dna-to-text** conversion."
      ],
      "metadata": {
        "id": "dcvQ8IFPhIX9"
      }
    },
    {
      "cell_type": "code",
      "source": [
        "schema = \"ATCG\" # (1)\n",
        "strategy = \"ascii\" # (2)\n",
        "text = \"Hello World!\"\n",
        "\n",
        "dna = gp.text_to_dna(text, schema=schema)\n",
        "text_from_dna = gp.dna_to_text(dna, schema=schema)\n",
        "print(f'Text: {text}\\nEncoded DNA: {dna}\\nDecoded Text: {text_from_dna}\\nSuccess: {text == text_from_dna}')"
      ],
      "metadata": {
        "colab": {
          "base_uri": "https://localhost:8080/"
        },
        "id": "WS3nPmj-cBw4",
        "outputId": "14b0d9e2-fa08-4176-fefc-171765432c73"
      },
      "execution_count": 3,
      "outputs": [
        {
          "output_type": "stream",
          "name": "stdout",
          "text": [
            "Text: Hello World!\n",
            "Encoded DNA: TACATCTTTCGATCGATCGGACAATTTGTCGGTGACTCGATCTAACAT\n",
            "Decoded Text: Hello World!\n",
            "Success: True\n"
          ]
        }
      ]
    },
    {
      "cell_type": "markdown",
      "source": [
        "### B. Handle `utf-8` text\n",
        "\n",
        "If your text contains non-english text or emojis, it is necessary to use `strategy = \"utf-8\"` to properly convert the text into synthetic dna-single-strand. In the following example, we have used `schema = \"ACGT\"`. Same *schema* and *strategy* pair is necessary for **text-to-dna** or **dna-to-text** conversion."
      ],
      "metadata": {
        "id": "m5Z7Ayw-dKoi"
      }
    },
    {
      "cell_type": "code",
      "source": [
        "schema = \"ACGT\" # (1)\n",
        "strategy = \"utf-8\" # (2)\n",
        "text = \"Hello World 😀!\"\n",
        "\n",
        "dna = gp.text_to_dna(text, schema=schema, strategy=strategy)\n",
        "text_from_dna = gp.dna_to_text(dna, schema=schema, binary_string_length=24, strategy=strategy)\n",
        "print(f'Text: {text}\\nEncoded DNA: {dna}\\nDecoded Text: {text_from_dna}\\nSuccess: {text == text_from_dna}')"
      ],
      "metadata": {
        "colab": {
          "base_uri": "https://localhost:8080/"
        },
        "id": "81b2UwuWch0x",
        "outputId": "4714cb55-a648-48c0-8575-96ab97d1efe9"
      },
      "execution_count": 4,
      "outputs": [
        {
          "output_type": "stream",
          "name": "stdout",
          "text": [
            "Text: Hello World 😀!\n",
            "Encoded DNA: AAAAAAAACAGAAAAAAAAACGCCAAAAAAAACGTAAAAAAAAACGTAAAAAAAAACGTTAAAAAAAAAGAAAAAAAAAACCCTAAAAAAAACGTTAAAAAAAACTAGAAAAAAAACGTAAAAAAAAACGCAAAAAAAAAAGAAAAACTTCGAAAAAAAAAAAAAGAC\n",
            "Decoded Text: Hello World 😀!\n",
            "Success: True\n"
          ]
        }
      ]
    },
    {
      "cell_type": "markdown",
      "source": [
        "## Have fun playing with `genespeak` ! 🚀 🤗"
      ],
      "metadata": {
        "id": "nyPbHPUUjZIw"
      }
    },
    {
      "cell_type": "code",
      "source": [
        ""
      ],
      "metadata": {
        "id": "tVW4QCULgPRs"
      },
      "execution_count": 4,
      "outputs": []
    }
  ]
}