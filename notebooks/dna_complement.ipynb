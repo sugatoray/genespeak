{
  "cells": [
    {
      "cell_type": "markdown",
      "metadata": {
        "id": "view-in-github",
        "colab_type": "text"
      },
      "source": [
        "<a href=\"https://colab.research.google.com/github/sugatoray/genespeak/blob/master/notebooks/dna_complement.ipynb\" target=\"_parent\"><img src=\"https://colab.research.google.com/assets/colab-badge.svg\" alt=\"Open In Colab\"/></a>"
      ]
    },
    {
      "cell_type": "markdown",
      "source": [
        "## Define DNA and DNA-complement"
      ],
      "metadata": {
        "id": "h2AzZesMU7Rs"
      }
    },
    {
      "cell_type": "code",
      "execution_count": 1,
      "metadata": {
        "id": "lIYdn1woOS1n"
      },
      "outputs": [],
      "source": [
        "dna = \"TACATCTTTCGATCGATCGGACAATTTGTCGGTGACTCGATCTAACAT\""
      ]
    },
    {
      "cell_type": "code",
      "source": [
        "dna_comp = \"ATGTAGAAAGCTAGCTAGCCTGTTAAACAGCCACTGAGCTAGATTGTA\""
      ],
      "metadata": {
        "id": "q2LDLmhxRYJ2"
      },
      "execution_count": 2,
      "outputs": []
    },
    {
      "cell_type": "markdown",
      "source": [
        "## Conversion Reference"
      ],
      "metadata": {
        "id": "g5aq4CtHVBP1"
      }
    },
    {
      "cell_type": "code",
      "source": [
        "ref = {\"A\": \"T\", \"C\": \"G\", \"G\": \"C\", \"T\": \"A\"}"
      ],
      "metadata": {
        "id": "9Rw4B9S-HIl_"
      },
      "execution_count": 3,
      "outputs": []
    },
    {
      "cell_type": "markdown",
      "source": [
        "## Define Functions"
      ],
      "metadata": {
        "id": "LCrRxy8LVGED"
      }
    },
    {
      "cell_type": "code",
      "source": [
        "import re\n",
        "import numpy as np"
      ],
      "metadata": {
        "id": "ibY5DQ7TIAXr"
      },
      "execution_count": 4,
      "outputs": []
    },
    {
      "cell_type": "code",
      "source": [
        "def dna_complement1(dna: str):\n",
        "    x = np.array(list(dna))\n",
        "    y = np.empty_like(x)\n",
        "    y[x == \"A\"] = \"T\"\n",
        "    y[x == \"C\"] = \"G\"\n",
        "    y[x == \"G\"] = \"C\"\n",
        "    y[x == \"T\"] = \"A\"    \n",
        "    return ''.join(y.tolist())\n",
        "\n",
        "def dna_complement2(dna: str):\n",
        "    y = dna\n",
        "    for i, k in enumerate(ref.keys()):\n",
        "        y = re.sub(k, str(i), y)\n",
        "    for i, v in enumerate(ref.values()):\n",
        "        y = re.sub(str(i), v, y)\n",
        "    return y\n",
        "\n",
        "def dna_complement3(dna: str):\n",
        "    y = dna\n",
        "    for i, (k, v) in enumerate(ref.items()):\n",
        "        if k in [\"A\", \"C\"]:\n",
        "            y = re.sub(k, str(i), y)\n",
        "        else:\n",
        "            y = re.sub(k, v, y)\n",
        "    for i, k in enumerate([\"A\", \"C\"]):\n",
        "        y = re.sub(str(i), ref[k], y)\n",
        "    return y\n",
        "\n",
        "def dna_complement4(dna: str):\n",
        "    return ''.join(ref.get(e) for e in dna.upper())\n",
        "\n",
        "def dna_complement5(dna: str):\n",
        "    return ''.join(list(map(lambda e: ref[e], dna.upper())))"
      ],
      "metadata": {
        "id": "LQYGm8irHftD"
      },
      "execution_count": 5,
      "outputs": []
    },
    {
      "cell_type": "markdown",
      "source": [
        "## Check Performance over 100k Function Calls"
      ],
      "metadata": {
        "id": "-vd5hVIoUYlx"
      }
    },
    {
      "cell_type": "code",
      "source": [
        "%timeit dna_complement1(dna)"
      ],
      "metadata": {
        "id": "IR-JmKrEQJxq",
        "outputId": "7efd417f-e459-4fef-f65a-c797c56dd35a",
        "colab": {
          "base_uri": "https://localhost:8080/"
        }
      },
      "execution_count": 6,
      "outputs": [
        {
          "output_type": "stream",
          "name": "stdout",
          "text": [
            "The slowest run took 4.35 times longer than the fastest. This could mean that an intermediate result is being cached.\n",
            "10000 loops, best of 5: 27.7 µs per loop\n"
          ]
        }
      ]
    },
    {
      "cell_type": "code",
      "source": [
        "%timeit dna_complement2(dna)"
      ],
      "metadata": {
        "id": "JtYcfLqdRvr7",
        "outputId": "7296bc54-fd52-475d-d0a7-258f0013c3ce",
        "colab": {
          "base_uri": "https://localhost:8080/"
        }
      },
      "execution_count": 7,
      "outputs": [
        {
          "output_type": "stream",
          "name": "stdout",
          "text": [
            "The slowest run took 17.99 times longer than the fastest. This could mean that an intermediate result is being cached.\n",
            "10000 loops, best of 5: 20 µs per loop\n"
          ]
        }
      ]
    },
    {
      "cell_type": "code",
      "source": [
        "%timeit dna_complement3(dna)"
      ],
      "metadata": {
        "id": "AYj-TNVrRzAI",
        "outputId": "9009dbd9-13d7-4902-98aa-7b7931782120",
        "colab": {
          "base_uri": "https://localhost:8080/"
        }
      },
      "execution_count": 8,
      "outputs": [
        {
          "output_type": "stream",
          "name": "stdout",
          "text": [
            "100000 loops, best of 5: 15.4 µs per loop\n"
          ]
        }
      ]
    },
    {
      "cell_type": "code",
      "source": [
        "%timeit dna_complement4(dna)"
      ],
      "metadata": {
        "id": "hNBwR86uR0dJ",
        "outputId": "24c1c21c-e3a9-4871-859b-94a6ec7e6bfc",
        "colab": {
          "base_uri": "https://localhost:8080/"
        }
      },
      "execution_count": 9,
      "outputs": [
        {
          "output_type": "stream",
          "name": "stdout",
          "text": [
            "100000 loops, best of 5: 7.53 µs per loop\n"
          ]
        }
      ]
    },
    {
      "cell_type": "code",
      "source": [
        "%timeit dna_complement5(dna)"
      ],
      "metadata": {
        "id": "AfywAe3MR2xD",
        "outputId": "2ee773e9-4835-4ef9-ff52-2bcd9a6eab86",
        "colab": {
          "base_uri": "https://localhost:8080/"
        }
      },
      "execution_count": 10,
      "outputs": [
        {
          "output_type": "stream",
          "name": "stdout",
          "text": [
            "100000 loops, best of 5: 6.55 µs per loop\n"
          ]
        }
      ]
    },
    {
      "cell_type": "markdown",
      "source": [
        "## Check Performance over a Single Function Call"
      ],
      "metadata": {
        "id": "dfYVdxQpUg98"
      }
    },
    {
      "cell_type": "code",
      "source": [
        "%time dna_complement1(dna)"
      ],
      "metadata": {
        "id": "NT3UeFA0R4-6",
        "outputId": "47681cad-b907-46d3-808d-2f187fbf6718",
        "colab": {
          "base_uri": "https://localhost:8080/",
          "height": 72
        }
      },
      "execution_count": 11,
      "outputs": [
        {
          "output_type": "stream",
          "name": "stdout",
          "text": [
            "CPU times: user 97 µs, sys: 2 µs, total: 99 µs\n",
            "Wall time: 103 µs\n"
          ]
        },
        {
          "output_type": "execute_result",
          "data": {
            "application/vnd.google.colaboratory.intrinsic+json": {
              "type": "string"
            },
            "text/plain": [
              "'ATGTAGAAAGCTAGCTAGCCTGTTAAACAGCCACTGAGCTAGATTGTA'"
            ]
          },
          "metadata": {},
          "execution_count": 11
        }
      ]
    },
    {
      "cell_type": "code",
      "source": [
        "%time dna_complement2(dna)"
      ],
      "metadata": {
        "id": "B8XexNGdTY59",
        "outputId": "93a9aeb2-f826-43a2-a623-a001fe567606",
        "colab": {
          "base_uri": "https://localhost:8080/",
          "height": 72
        }
      },
      "execution_count": 12,
      "outputs": [
        {
          "output_type": "stream",
          "name": "stdout",
          "text": [
            "CPU times: user 79 µs, sys: 0 ns, total: 79 µs\n",
            "Wall time: 84.4 µs\n"
          ]
        },
        {
          "output_type": "execute_result",
          "data": {
            "application/vnd.google.colaboratory.intrinsic+json": {
              "type": "string"
            },
            "text/plain": [
              "'ATGTAGAAAGCTAGCTAGCCTGTTAAACAGCCACTGAGCTAGATTGTA'"
            ]
          },
          "metadata": {},
          "execution_count": 12
        }
      ]
    },
    {
      "cell_type": "code",
      "source": [
        "%time dna_complement3(dna)"
      ],
      "metadata": {
        "id": "CDJjvRDjTbCG",
        "outputId": "269f778c-3351-48fb-ebc3-34e37162bbf9",
        "colab": {
          "base_uri": "https://localhost:8080/",
          "height": 72
        }
      },
      "execution_count": 13,
      "outputs": [
        {
          "output_type": "stream",
          "name": "stdout",
          "text": [
            "CPU times: user 51 µs, sys: 1e+03 ns, total: 52 µs\n",
            "Wall time: 55.6 µs\n"
          ]
        },
        {
          "output_type": "execute_result",
          "data": {
            "application/vnd.google.colaboratory.intrinsic+json": {
              "type": "string"
            },
            "text/plain": [
              "'ATGTAGAAAGCTAGCTAGCCTGTTAAACAGCCACTGAGCTAGATTGTA'"
            ]
          },
          "metadata": {},
          "execution_count": 13
        }
      ]
    },
    {
      "cell_type": "code",
      "source": [
        "%time dna_complement4(dna)"
      ],
      "metadata": {
        "id": "zFEcWb7lTed-",
        "outputId": "8c88c8db-f092-4176-926c-cc1c9fc6906d",
        "colab": {
          "base_uri": "https://localhost:8080/",
          "height": 72
        }
      },
      "execution_count": 14,
      "outputs": [
        {
          "output_type": "stream",
          "name": "stdout",
          "text": [
            "CPU times: user 23 µs, sys: 0 ns, total: 23 µs\n",
            "Wall time: 26.9 µs\n"
          ]
        },
        {
          "output_type": "execute_result",
          "data": {
            "application/vnd.google.colaboratory.intrinsic+json": {
              "type": "string"
            },
            "text/plain": [
              "'ATGTAGAAAGCTAGCTAGCCTGTTAAACAGCCACTGAGCTAGATTGTA'"
            ]
          },
          "metadata": {},
          "execution_count": 14
        }
      ]
    },
    {
      "cell_type": "code",
      "source": [
        "%time dna_complement5(dna)"
      ],
      "metadata": {
        "id": "va-EWg07Tjrg",
        "outputId": "07b8f795-7894-4354-8fc0-7fdb66d560e7",
        "colab": {
          "base_uri": "https://localhost:8080/",
          "height": 72
        }
      },
      "execution_count": 15,
      "outputs": [
        {
          "output_type": "stream",
          "name": "stdout",
          "text": [
            "CPU times: user 21 µs, sys: 1e+03 ns, total: 22 µs\n",
            "Wall time: 25.5 µs\n"
          ]
        },
        {
          "output_type": "execute_result",
          "data": {
            "application/vnd.google.colaboratory.intrinsic+json": {
              "type": "string"
            },
            "text/plain": [
              "'ATGTAGAAAGCTAGCTAGCCTGTTAAACAGCCACTGAGCTAGATTGTA'"
            ]
          },
          "metadata": {},
          "execution_count": 15
        }
      ]
    },
    {
      "cell_type": "markdown",
      "source": [
        "## Check Correctness"
      ],
      "metadata": {
        "id": "SnqNW4_1UsRG"
      }
    },
    {
      "cell_type": "code",
      "source": [
        "assert dna_comp == dna_complement1(dna), \"Method-1 Mismatch Error\"\n",
        "assert dna_comp == dna_complement2(dna), \"Method-2 Mismatch Error\"\n",
        "assert dna_comp == dna_complement3(dna), \"Method-3 Mismatch Error\"\n",
        "assert dna_comp == dna_complement4(dna), \"Method-4 Mismatch Error\"\n",
        "assert dna_comp == dna_complement5(dna), \"Method-5 Mismatch Error\""
      ],
      "metadata": {
        "id": "5Q6Gw5nFTmSQ"
      },
      "execution_count": 16,
      "outputs": []
    },
    {
      "cell_type": "code",
      "source": [
        ""
      ],
      "metadata": {
        "id": "RLHKYTAhUOz5"
      },
      "execution_count": 16,
      "outputs": []
    }
  ],
  "metadata": {
    "colab": {
      "name": "dna_complement",
      "provenance": [],
      "toc_visible": true,
      "include_colab_link": true
    },
    "kernelspec": {
      "display_name": "Python 3",
      "name": "python3"
    }
  },
  "nbformat": 4,
  "nbformat_minor": 0
}